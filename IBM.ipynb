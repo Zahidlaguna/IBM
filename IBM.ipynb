{
  "metadata": {
    "language_info": {
      "codemirror_mode": {
        "name": "python",
        "version": 3
      },
      "file_extension": ".py",
      "mimetype": "text/x-python",
      "name": "python",
      "nbconvert_exporter": "python",
      "pygments_lexer": "ipython3",
      "version": "3.8"
    },
    "kernelspec": {
      "name": "python",
      "display_name": "Python (Pyodide)",
      "language": "python"
    }
  },
  "nbformat_minor": 4,
  "nbformat": 4,
  "cells": [
    {
      "cell_type": "markdown",
      "source": "<span style=\"font-size: 36px;\">My Jupyter Assignment.</span>",
      "metadata": {}
    },
    {
      "cell_type": "markdown",
      "source": "_Hello my name is Zahid and this my Jupyter Assignment for the IBM certification_",
      "metadata": {}
    },
    {
      "cell_type": "markdown",
      "source": "List of Languages for Data Science \n1. R\n2. Python\n3. Julia\n4. Java\n5. C++",
      "metadata": {}
    },
    {
      "cell_type": "markdown",
      "source": "List of Data Science libraries \n1. Tensorflow\n2. NumPy\n3. Pandas\n4. SciPy\n5. Keras\n6. Matplotlib\n7. SciKit Learn\n8. Scrapy",
      "metadata": {}
    },
    {
      "cell_type": "markdown",
      "source": "| Tools | for | Data Science |\n| --- | --- | --- |\n| SAS | ggplot | SciKit Learn |\n| Jupyter | Tensorflow | Tableau |\n",
      "metadata": {}
    },
    {
      "cell_type": "code",
      "source": "#In this portion we will be discussing Arithmetic functions in Jupyter\n2+2",
      "metadata": {
        "trusted": true
      },
      "execution_count": 2,
      "outputs": [
        {
          "execution_count": 2,
          "output_type": "execute_result",
          "data": {
            "text/plain": "4"
          },
          "metadata": {}
        }
      ]
    },
    {
      "cell_type": "code",
      "source": "8 + 4\n12 * 5",
      "metadata": {
        "trusted": true
      },
      "execution_count": 4,
      "outputs": [
        {
          "execution_count": 4,
          "output_type": "execute_result",
          "data": {
            "text/plain": "60"
          },
          "metadata": {}
        }
      ]
    },
    {
      "cell_type": "code",
      "source": "minutes = 120\nhours = minutes / 60\nprint(hours)",
      "metadata": {
        "trusted": true
      },
      "execution_count": 5,
      "outputs": [
        {
          "name": "stdout",
          "text": "2.0\n",
          "output_type": "stream"
        }
      ]
    },
    {
      "cell_type": "markdown",
      "source": "**Objectives**\n1. Create a markdown cell with the title of the notebook. \n\n2. Create a markdown cell for an introduction. \n\n3. Create a markdown cell to list data science languages. \n\n4. Create a markdown cell to list data science libraries. \n\n5. Create a markdown cell with a table of Data Science tools. \n\n6. Create a markdown cell introducing arithmetic expression examples. \n\n7. Create a code cell to multiply and add numbers. \n\n8. Create a code cell to convert minutes to hours. \n\n9. Insert a markdown cell to list Objectives. \n\n10. Create a markdown cell to indicate the Author’s name.\n\n11. Share your notebook through GitHub\n\n12. Take a screenshot of the first page of the notebook.",
      "metadata": {}
    },
    {
      "cell_type": "markdown",
      "source": "**_Zahid Laguna_**",
      "metadata": {}
    },
    {
      "cell_type": "code",
      "source": "",
      "metadata": {},
      "execution_count": null,
      "outputs": []
    }
  ]
}